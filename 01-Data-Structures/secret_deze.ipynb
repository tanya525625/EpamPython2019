{
 "cells": [
  {
   "cell_type": "markdown",
   "metadata": {},
   "source": [
    "## Примените всевозможные операции к данным множествам, выделяя различные подмножества\n",
    "накинем 2 балла\n",
    "\n",
    "<img src=\"images/set_food.png\" width=\"700\" height=\"700\">"
   ]
  },
  {
   "cell_type": "code",
   "execution_count": 13,
   "metadata": {},
   "outputs": [
    {
     "data": {
      "text/plain": [
       "{'a lot of cheeeese',\n",
       " 'cabbage',\n",
       " 'cucumbers',\n",
       " 'dough',\n",
       " 'fried chicken',\n",
       " 'garlic',\n",
       " 'ground pepper',\n",
       " 'lavash',\n",
       " 'onion',\n",
       " 'oregano',\n",
       " 'pepperoni',\n",
       " 'salt',\n",
       " 'sauce',\n",
       " 'sweet basil',\n",
       " 'tomatoes'}"
      ]
     },
     "execution_count": 13,
     "metadata": {},
     "output_type": "execute_result"
    }
   ],
   "source": [
    "pizza = {\"dough\", \"tomatoes\", \"pepperoni\", \"ground pepper\", \"sweet basil\",\n",
    "         \"a lot of cheeeese\", \"onion\", \"garlic\", \"salt\", \"oregano\"}\n",
    "shaverma = {\"lavash\", \"cucumbers\", \"tomatoes\", \"sauce\", \"fried chicken\", \"onion\", \"cabbage\"}\n",
    "set.union(pizza, shaverma)"
   ]
  },
  {
   "cell_type": "code",
   "execution_count": 12,
   "metadata": {},
   "outputs": [
    {
     "data": {
      "text/plain": [
       "{'onion', 'tomatoes'}"
      ]
     },
     "execution_count": 12,
     "metadata": {},
     "output_type": "execute_result"
    }
   ],
   "source": [
    "set.intersection(pizza, shaverma)"
   ]
  },
  {
   "cell_type": "code",
   "execution_count": 16,
   "metadata": {},
   "outputs": [
    {
     "data": {
      "text/plain": [
       "{'a lot of cheeeese',\n",
       " 'dough',\n",
       " 'garlic',\n",
       " 'ground pepper',\n",
       " 'oregano',\n",
       " 'pepperoni',\n",
       " 'salt',\n",
       " 'sweet basil'}"
      ]
     },
     "execution_count": 16,
     "metadata": {},
     "output_type": "execute_result"
    }
   ],
   "source": [
    "pizza.difference(shaverma)"
   ]
  },
  {
   "cell_type": "code",
   "execution_count": 15,
   "metadata": {},
   "outputs": [
    {
     "data": {
      "text/plain": [
       "{'a lot of cheeeese',\n",
       " 'cabbage',\n",
       " 'cucumbers',\n",
       " 'dough',\n",
       " 'fried chicken',\n",
       " 'garlic',\n",
       " 'ground pepper',\n",
       " 'lavash',\n",
       " 'oregano',\n",
       " 'pepperoni',\n",
       " 'salt',\n",
       " 'sauce',\n",
       " 'sweet basil'}"
      ]
     },
     "execution_count": 15,
     "metadata": {},
     "output_type": "execute_result"
    }
   ],
   "source": [
    "set.symmetric_difference(pizza, shaverma)"
   ]
  },
  {
   "cell_type": "code",
   "execution_count": 17,
   "metadata": {},
   "outputs": [
    {
     "data": {
      "text/plain": [
       "{'cabbage', 'cucumbers', 'fried chicken', 'lavash', 'sauce'}"
      ]
     },
     "execution_count": 17,
     "metadata": {},
     "output_type": "execute_result"
    }
   ],
   "source": [
    "shaverma.difference(pizza)"
   ]
  },
  {
   "cell_type": "code",
   "execution_count": null,
   "metadata": {},
   "outputs": [],
   "source": []
  }
 ],
 "metadata": {
  "kernelspec": {
   "display_name": "Python 3",
   "language": "python",
   "name": "python3"
  },
  "language_info": {
   "codemirror_mode": {
    "name": "ipython",
    "version": 3
   },
   "file_extension": ".py",
   "mimetype": "text/x-python",
   "name": "python",
   "nbconvert_exporter": "python",
   "pygments_lexer": "ipython3",
   "version": "3.7.1"
  }
 },
 "nbformat": 4,
 "nbformat_minor": 2
}
